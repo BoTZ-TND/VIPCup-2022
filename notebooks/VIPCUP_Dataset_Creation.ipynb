{
  "nbformat": 4,
  "nbformat_minor": 0,
  "metadata": {
    "colab": {
      "name": "VIPCUP - Dataset Creation.ipynb",
      "provenance": [],
      "include_colab_link": true
    },
    "kernelspec": {
      "name": "python3",
      "display_name": "Python 3"
    },
    "language_info": {
      "name": "python"
    }
  },
  "cells": [
    {
      "cell_type": "markdown",
      "metadata": {
        "id": "view-in-github",
        "colab_type": "text"
      },
      "source": [
        "<a href=\"https://colab.research.google.com/github/BoTZ-TND/VIPCup-2022/blob/data-loader/notebooks/VIPCUP_Dataset_Creation.ipynb\" target=\"_parent\"><img src=\"https://colab.research.google.com/assets/colab-badge.svg\" alt=\"Open In Colab\"/></a>"
      ]
    },
    {
      "cell_type": "markdown",
      "source": [
        "**DownloadStyleGan3**"
      ],
      "metadata": {
        "id": "Z247LeMo9VUu"
      }
    },
    {
      "cell_type": "code",
      "source": [
        "from google.colab import drive\n",
        "drive.mount('/content/drive')"
      ],
      "metadata": {
        "id": "6tfZb_7nkRHd"
      },
      "execution_count": null,
      "outputs": []
    },
    {
      "cell_type": "code",
      "execution_count": null,
      "metadata": {
        "id": "1EMUJ3a3IXon"
      },
      "outputs": [],
      "source": [
        "# Imports\n",
        "import requests\n",
        "import numpy as np\n",
        "import pandas as pd\n",
        "from bs4 import BeautifulSoup\n",
        "import matplotlib.pyplot as plt\n",
        "import os\n",
        "import shutil\n",
        "import zipfile\n",
        "from tqdm import tqdm\n",
        "\n",
        "%matplotlib inline"
      ]
    },
    {
      "cell_type": "code",
      "source": [
        "# IMDB's homepage\n",
        "stylegan3_url = 'https://nvlabs-fi-cdn.nvidia.com/stylegan3/images/'\n",
        "\n",
        "# Use requests to retrieve data from a given URL\n",
        "imdb_response = requests.get(stylegan3_url)\n",
        "\n",
        "# Parse the whole HTML page using BeautifulSoup\n",
        "stylegan3_web = BeautifulSoup(imdb_response.text, 'html.parser')\n"
      ],
      "metadata": {
        "id": "TlLk4DOcJHCC"
      },
      "execution_count": null,
      "outputs": []
    },
    {
      "cell_type": "code",
      "source": [
        "outer_urls = stylegan3_web.find_all('a')"
      ],
      "metadata": {
        "id": "5e7E25wFm_eM"
      },
      "execution_count": null,
      "outputs": []
    },
    {
      "cell_type": "code",
      "source": [
        "!pwd"
      ],
      "metadata": {
        "colab": {
          "base_uri": "https://localhost:8080/"
        },
        "id": "irKlsixQ4YSH",
        "outputId": "3bbbe6bd-6e95-4d46-9d9b-9fc836cba72f"
      },
      "execution_count": null,
      "outputs": [
        {
          "output_type": "stream",
          "name": "stdout",
          "text": [
            "/content\n"
          ]
        }
      ]
    },
    {
      "cell_type": "code",
      "source": [
        "folder_names = []\n",
        "os.makedirs(\"/content/Stylegan3/total\",exist_ok=True)"
      ],
      "metadata": {
        "id": "u2IPnOXV4QdQ"
      },
      "execution_count": null,
      "outputs": []
    },
    {
      "cell_type": "code",
      "source": [
        "ignore = [\"stylegan3\",\"..\",\"LICENSE.txt\"]\n",
        "for link in outer_urls:\n",
        "  if (not link.text in ignore):\n",
        "    print(f\"{stylegan3_url}{link['href']}all-files.zip\",link['href'][:-1])\n",
        "    folder_names.append(link['href'][:-1])\n",
        "    if not os.path.exists(f\"/content/{link['href'][:-1]}.zip\"):\n",
        "      os.system(f\"curl -o {link['href'][:-1]}.zip {stylegan3_url}{link['href']}all-files.zip\")"
      ],
      "metadata": {
        "colab": {
          "base_uri": "https://localhost:8080/"
        },
        "id": "lCbGdueBnfk5",
        "outputId": "61e0c9f1-bd49-4d12-ea80-1fb66c34bbcc"
      },
      "execution_count": null,
      "outputs": [
        {
          "output_type": "stream",
          "name": "stdout",
          "text": [
            "https://nvlabs-fi-cdn.nvidia.com/stylegan3/images/stylegan3-r-afhqv2-512x512/all-files.zip stylegan3-r-afhqv2-512x512\n",
            "https://nvlabs-fi-cdn.nvidia.com/stylegan3/images/stylegan3-r-ffhq-1024x1024/all-files.zip stylegan3-r-ffhq-1024x1024\n",
            "https://nvlabs-fi-cdn.nvidia.com/stylegan3/images/stylegan3-r-ffhqu-1024x1024/all-files.zip stylegan3-r-ffhqu-1024x1024\n",
            "https://nvlabs-fi-cdn.nvidia.com/stylegan3/images/stylegan3-r-metfaces-1024x1024/all-files.zip stylegan3-r-metfaces-1024x1024\n",
            "https://nvlabs-fi-cdn.nvidia.com/stylegan3/images/stylegan3-r-metfacesu-1024x1024/all-files.zip stylegan3-r-metfacesu-1024x1024\n",
            "https://nvlabs-fi-cdn.nvidia.com/stylegan3/images/stylegan3-t-afhqv2-512x512/all-files.zip stylegan3-t-afhqv2-512x512\n",
            "https://nvlabs-fi-cdn.nvidia.com/stylegan3/images/stylegan3-t-ffhq-1024x1024/all-files.zip stylegan3-t-ffhq-1024x1024\n",
            "https://nvlabs-fi-cdn.nvidia.com/stylegan3/images/stylegan3-t-ffhqu-1024x1024/all-files.zip stylegan3-t-ffhqu-1024x1024\n",
            "https://nvlabs-fi-cdn.nvidia.com/stylegan3/images/stylegan3-t-metfaces-1024x1024/all-files.zip stylegan3-t-metfaces-1024x1024\n",
            "https://nvlabs-fi-cdn.nvidia.com/stylegan3/images/stylegan3-t-metfacesu-1024x1024/all-files.zip stylegan3-t-metfacesu-1024x1024\n"
          ]
        }
      ]
    },
    {
      "cell_type": "code",
      "source": [
        "for fol in tqdm(folder_names):\n",
        "  with zipfile.ZipFile(f\"/content/{fol}.zip\", 'r') as zip_ref:\n",
        "    os.makedirs(f\"/content/Stylegan3/{fol}\",exist_ok=True)\n",
        "    zip_ref.extractall(f\"/content/Stylegan3/{fol}\")\n",
        "    zip_ref.extractall(f\"/content/Stylegan3/total\")"
      ],
      "metadata": {
        "colab": {
          "base_uri": "https://localhost:8080/"
        },
        "id": "I6q60vy-1Mzc",
        "outputId": "125da3e6-f5fd-4d0a-a54a-310df2f59f28"
      },
      "execution_count": null,
      "outputs": [
        {
          "output_type": "stream",
          "name": "stderr",
          "text": [
            "100%|██████████| 10/10 [00:23<00:00,  2.35s/it]\n"
          ]
        }
      ]
    },
    {
      "cell_type": "code",
      "source": [
        "!du -h /content/Stylegan3/"
      ],
      "metadata": {
        "colab": {
          "base_uri": "https://localhost:8080/"
        },
        "id": "FmBaRmAq5UDH",
        "outputId": "4657f4b5-ad46-429f-8aba-9c4ae2230b31"
      },
      "execution_count": null,
      "outputs": [
        {
          "output_type": "stream",
          "name": "stdout",
          "text": [
            "434M\t/content/Stylegan3/stylegan3-t-ffhq-1024x1024\n",
            "120M\t/content/Stylegan3/stylegan3-r-metfacesu-1024x1024\n",
            "127M\t/content/Stylegan3/stylegan3-r-metfaces-1024x1024\n",
            "202M\t/content/Stylegan3/stylegan3-r-ffhqu-1024x1024\n",
            "125M\t/content/Stylegan3/stylegan3-t-metfacesu-1024x1024\n",
            "126M\t/content/Stylegan3/stylegan3-t-metfaces-1024x1024\n",
            "1.2G\t/content/Stylegan3/total\n",
            "54M\t/content/Stylegan3/stylegan3-t-afhqv2-512x512\n",
            "42M\t/content/Stylegan3/stylegan3-r-afhqv2-512x512\n",
            "287M\t/content/Stylegan3/stylegan3-r-ffhq-1024x1024\n",
            "183M\t/content/Stylegan3/stylegan3-t-ffhqu-1024x1024\n",
            "2.8G\t/content/Stylegan3/\n"
          ]
        }
      ]
    },
    {
      "cell_type": "code",
      "source": [
        "len(os.listdir(f\"/content/Stylegan3/total\"))"
      ],
      "metadata": {
        "colab": {
          "base_uri": "https://localhost:8080/"
        },
        "id": "9XpeXAn27OEQ",
        "outputId": "1b8fc798-258a-45e1-e6ad-604ceb5aa55d"
      },
      "execution_count": null,
      "outputs": [
        {
          "output_type": "execute_result",
          "data": {
            "text/plain": [
              "993"
            ]
          },
          "metadata": {},
          "execution_count": 63
        }
      ]
    },
    {
      "cell_type": "code",
      "source": [
        "shutil.copytree(\"/content/Stylegan3/\",\"/content/drive/MyDrive/VIP Cup/Complete datasets/Stylegan3\")"
      ],
      "metadata": {
        "colab": {
          "base_uri": "https://localhost:8080/",
          "height": 35
        },
        "id": "FZlRiX_G7gQF",
        "outputId": "905fb641-b650-4992-84cd-fbe4478de3e0"
      },
      "execution_count": null,
      "outputs": [
        {
          "output_type": "execute_result",
          "data": {
            "text/plain": [
              "'/content/drive/MyDrive/VIP Cup/Complete datasets/Stylegan3'"
            ],
            "application/vnd.google.colaboratory.intrinsic+json": {
              "type": "string"
            }
          },
          "metadata": {},
          "execution_count": 66
        }
      ]
    },
    {
      "cell_type": "code",
      "source": [
        ""
      ],
      "metadata": {
        "id": "4_OI8C7J8FIJ"
      },
      "execution_count": null,
      "outputs": []
    },
    {
      "cell_type": "markdown",
      "source": [
        "**Inpainting with Gated Convolution**"
      ],
      "metadata": {
        "id": "to3zb_Ju9gq4"
      }
    },
    {
      "cell_type": "code",
      "source": [
        "!curl -k -O https://www.grip.unina.it/download/vipcup2022/gated_convolution_inpainting.zip"
      ],
      "metadata": {
        "colab": {
          "base_uri": "https://localhost:8080/"
        },
        "id": "zy-2k_529shk",
        "outputId": "b98245ad-a492-4916-f357-8dc6b383a53b"
      },
      "execution_count": null,
      "outputs": [
        {
          "output_type": "stream",
          "name": "stdout",
          "text": [
            "  % Total    % Received % Xferd  Average Speed   Time    Time     Time  Current\n",
            "                                 Dload  Upload   Total   Spent    Left  Speed\n",
            "100  241M  100  241M    0     0  13.5M      0  0:00:17  0:00:17 --:--:-- 17.2M\n"
          ]
        }
      ]
    },
    {
      "cell_type": "code",
      "source": [
        "with zipfile.ZipFile(f\"/content/gated_convolution_inpainting.zip\", 'r') as zip_ref:\n",
        "    os.makedirs(f\"/content/drive/MyDrive/VIP Cup/Complete datasets/gated_convolution_inpainting\",exist_ok=True)\n",
        "    zip_ref.extractall(f\"/content/drive/MyDrive/VIP Cup/Complete datasets/gated_convolution_inpainting\",pwd = bytes(\"vippascup\", 'utf-8'))"
      ],
      "metadata": {
        "id": "UDgwn6X5934F"
      },
      "execution_count": null,
      "outputs": []
    },
    {
      "cell_type": "code",
      "source": [
        "len(os.listdir(f\"/content/drive/MyDrive/VIP Cup/Complete datasets/gated_convolution_inpainting/gated_convolution_inpainting/inpainting\"))"
      ],
      "metadata": {
        "colab": {
          "base_uri": "https://localhost:8080/"
        },
        "id": "PslkxB8rCdHd",
        "outputId": "c4c8f6f9-81ba-4a13-96f7-f6f1d27f550c"
      },
      "execution_count": null,
      "outputs": [
        {
          "output_type": "execute_result",
          "data": {
            "text/plain": [
              "2000"
            ]
          },
          "metadata": {},
          "execution_count": 88
        }
      ]
    },
    {
      "cell_type": "code",
      "source": [
        ""
      ],
      "metadata": {
        "id": "m8THK2D4EdYm"
      },
      "execution_count": null,
      "outputs": []
    },
    {
      "cell_type": "markdown",
      "source": [
        "**Inpainting with GLIDE**"
      ],
      "metadata": {
        "id": "FKJRozkwE_m6"
      }
    },
    {
      "cell_type": "code",
      "source": [
        "!curl -k -O https://www.grip.unina.it/download/vipcup2022/glide.zip"
      ],
      "metadata": {
        "colab": {
          "base_uri": "https://localhost:8080/"
        },
        "id": "Jl4YsTpyFHAW",
        "outputId": "f6723735-e81b-49ec-e215-5e15efe2e471"
      },
      "execution_count": null,
      "outputs": [
        {
          "output_type": "stream",
          "name": "stdout",
          "text": [
            "  % Total    % Received % Xferd  Average Speed   Time    Time     Time  Current\n",
            "                                 Dload  Upload   Total   Spent    Left  Speed\n",
            "100  179M  100  179M    0     0  12.9M      0  0:00:13  0:00:13 --:--:-- 17.4M\n"
          ]
        }
      ]
    },
    {
      "cell_type": "code",
      "source": [
        "with zipfile.ZipFile(f\"/content/glide.zip\", 'r') as zip_ref:\n",
        "    os.makedirs(f\"/content/drive/MyDrive/VIP Cup/Complete datasets/glide\",exist_ok=True)\n",
        "    zip_ref.extractall(f\"/content/drive/MyDrive/VIP Cup/Complete datasets/glide\",pwd = bytes(\"vippascup\", 'utf-8'))"
      ],
      "metadata": {
        "id": "m-XVHD54FI6A"
      },
      "execution_count": null,
      "outputs": []
    },
    {
      "cell_type": "code",
      "source": [
        "len(os.listdir(f\"/content/drive/MyDrive/VIP Cup/Complete datasets/glide/glide/text2img\")),len(os.listdir(f\"/content/drive/MyDrive/VIP Cup/Complete datasets/glide/glide/inpainting\"))"
      ],
      "metadata": {
        "colab": {
          "base_uri": "https://localhost:8080/"
        },
        "id": "DyiZAR27FK9Z",
        "outputId": "28b9eee8-9856-4525-8dcb-5b5040155280"
      },
      "execution_count": null,
      "outputs": [
        {
          "output_type": "execute_result",
          "data": {
            "text/plain": [
              "(1000, 1000)"
            ]
          },
          "metadata": {},
          "execution_count": 97
        }
      ]
    },
    {
      "cell_type": "markdown",
      "source": [
        "**Taming Transformers for unconditional image generation**"
      ],
      "metadata": {
        "id": "ah17St8oIVW6"
      }
    },
    {
      "cell_type": "code",
      "source": [
        "# IMDB's homepage\n",
        "stylegan3_url = 'https://k00.fr/j626x093'\n",
        "\n",
        "# Use requests to retrieve data from a given URL\n",
        "stylegan3_response = requests.get(stylegan3_url)\n",
        "\n",
        "# Parse the whole HTML page using BeautifulSoup\n",
        "stylegan3_web = BeautifulSoup(stylegan3_response.text, 'html.parser')\n"
      ],
      "metadata": {
        "id": "1VcTRsPlFk2V"
      },
      "execution_count": null,
      "outputs": []
    },
    {
      "cell_type": "code",
      "source": [
        "outer_urls = stylegan3_web.find_all('a')"
      ],
      "metadata": {
        "id": "ZE6sEo_4NB9S"
      },
      "execution_count": null,
      "outputs": []
    },
    {
      "cell_type": "code",
      "source": [
        "folder_names = []\n",
        "os.makedirs(\"/content/Taming/total\",exist_ok=True)"
      ],
      "metadata": {
        "id": "zJARw48HNE-L"
      },
      "execution_count": null,
      "outputs": []
    },
    {
      "cell_type": "code",
      "source": [
        "#ignore = [\"stylegan3\",\"..\",\"LICENSE.txt\"]\n",
        "ignore = []\n",
        "for link in outer_urls:\n",
        "  if (not link.text in ignore):\n",
        "    print(f\"{stylegan3_url}{link['href']}all-files.zip\",link['href'][:-1])\n",
        "    #folder_names.append(link['href'][:-1])\n",
        "    #if not os.path.exists(f\"/content/{link['href'][:-1]}.zip\"):\n",
        "      #os.system(f\"curl -o {link['href'][:-1]}.zip {stylegan3_url}{link['href']}all-files.zip\")"
      ],
      "metadata": {
        "colab": {
          "base_uri": "https://localhost:8080/"
        },
        "id": "i5T8nIqvNLAs",
        "outputId": "7fd89610-ec80-4972-af0a-6ce96ffcd669"
      },
      "execution_count": null,
      "outputs": [
        {
          "output_type": "stream",
          "name": "stdout",
          "text": [
            "https://k00.fr/j626x093https://whatbrowser.org/all-files.zip https://whatbrowser.org\n"
          ]
        }
      ]
    },
    {
      "cell_type": "code",
      "source": [
        ""
      ],
      "metadata": {
        "id": "lQ-F9APdn4qB"
      },
      "execution_count": null,
      "outputs": []
    }
  ]
}