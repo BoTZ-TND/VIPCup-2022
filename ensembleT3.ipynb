{
 "cells": [
  {
   "cell_type": "markdown",
   "metadata": {},
   "source": [
    "There are a few online ensemble classification methods implemented in the sklearn library \\\n",
    "* example blog : [StackingClassifier](https://analyticsindiamag.com/a-beginners-guide-to-stacking-ensemble-deep-learning-models/)\n",
    "* sklearn docs : [VotingClassifier](https://scikit-learn.org/stable/modules/ensemble.html#voting-classifier)"
   ]
  },
  {
   "cell_type": "code",
   "execution_count": null,
   "metadata": {},
   "outputs": [],
   "source": []
  },
  {
   "cell_type": "code",
   "execution_count": null,
   "metadata": {},
   "outputs": [],
   "source": []
  }
 ],
 "metadata": {
  "language_info": {
   "name": "python"
  },
  "orig_nbformat": 4
 },
 "nbformat": 4,
 "nbformat_minor": 2
}
